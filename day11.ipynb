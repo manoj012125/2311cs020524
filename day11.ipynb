{
 "cells": [
  {
   "cell_type": "code",
   "execution_count": 3,
   "id": "ad86ea8b-3034-4d23-89ba-2442c37f337f",
   "metadata": {},
   "outputs": [],
   "source": [
    "stud_2nd=[18,19,20,20,20,19,18,18,18,20,20] "
   ]
  },
  {
   "cell_type": "code",
   "execution_count": 9,
   "id": "ee131c72-f729-4ffd-9c0e-3d1553752854",
   "metadata": {},
   "outputs": [
    {
     "data": {
      "text/plain": [
       "array([19, 18, 20, 18, 20, 19, 20, 18, 18, 18, 19, 20, 20, 19, 19, 20, 19,\n",
       "       20, 20, 18, 18, 20, 19, 19, 19, 20, 20, 18, 19, 20, 19, 18, 20, 19,\n",
       "       19, 20, 20, 18, 18, 19, 20, 20, 19, 19, 18, 18, 20, 20, 20, 18, 18,\n",
       "       18, 18, 19, 20, 19, 19, 19, 20, 19, 20, 20, 19, 20, 19, 19, 18, 19,\n",
       "       20, 18, 19, 20, 19, 19, 18, 19, 20, 18, 20, 20, 20, 19, 19, 19, 18,\n",
       "       18, 20, 19, 18, 19, 19, 20, 18, 18, 18, 20, 20, 18, 19, 20, 20, 18,\n",
       "       20, 19, 18, 19, 18, 20, 20, 20, 18, 19, 20, 20, 18, 18, 18, 20, 20,\n",
       "       20, 19, 19, 19, 20, 20, 20, 20, 19, 19, 18, 20, 20, 18, 20, 18, 20,\n",
       "       18, 19, 19, 20, 19, 20, 19, 20, 19, 19, 18, 19, 20, 19, 18, 19, 18,\n",
       "       19, 19, 18, 19, 18, 18, 19, 20, 20, 19, 20, 19, 18, 20, 20, 19, 19,\n",
       "       20, 19, 20, 20, 20, 20, 18, 18, 18, 19, 18, 20, 20, 19, 19, 19, 18,\n",
       "       19, 19, 20, 20, 18, 20, 19, 20, 18, 18, 18, 18, 19, 18, 18, 18, 18,\n",
       "       19, 18, 18, 18, 18, 20, 18, 19, 18, 20, 18, 19, 18, 18, 19, 18, 20,\n",
       "       18, 18, 19, 20, 19, 20, 18, 19, 20, 20, 18, 19, 19, 19, 19, 18, 19,\n",
       "       18, 20, 19, 20, 20, 18, 19, 18, 18, 20, 20, 19, 19, 20, 20, 19, 19,\n",
       "       19, 19, 18, 18, 19, 20, 19, 18, 19, 20, 18, 18, 20, 19, 19, 19, 18,\n",
       "       18, 19, 18, 18, 20, 18, 18, 18, 20, 18, 20, 18, 19, 20, 20, 18, 20,\n",
       "       18, 18, 20, 18, 19, 18, 20, 20, 20, 19, 18])"
      ]
     },
     "execution_count": 9,
     "metadata": {},
     "output_type": "execute_result"
    }
   ],
   "source": [
    "import numpy as np\n",
    "np.random.randint(18,21,(300))"
   ]
  },
  {
   "cell_type": "code",
   "execution_count": 15,
   "id": "e4083d5f-8f97-4e2a-ba60-6cc933537311",
   "metadata": {},
   "outputs": [
    {
     "data": {
      "text/plain": [
       "array([[18, 20, 19, 18, 20, 19, 18],\n",
       "       [20, 20, 20, 19, 20, 19, 19],\n",
       "       [20, 19, 20, 18, 19, 20, 20],\n",
       "       [18, 18, 19, 19, 19, 18, 20],\n",
       "       [20, 19, 19, 18, 18, 18, 19],\n",
       "       [19, 18, 20, 18, 19, 19, 18]])"
      ]
     },
     "execution_count": 15,
     "metadata": {},
     "output_type": "execute_result"
    }
   ],
   "source": [
    "np.random.seed(400)\n",
    "arr=np.random.randint(18,21,(6,7))\n",
    "arr"
   ]
  },
  {
   "cell_type": "code",
   "execution_count": 17,
   "id": "b54a4f68-5476-4f63-8270-f0152e90246a",
   "metadata": {},
   "outputs": [
    {
     "data": {
      "text/plain": [
       "42"
      ]
     },
     "execution_count": 17,
     "metadata": {},
     "output_type": "execute_result"
    }
   ],
   "source": [
    "arr.size"
   ]
  },
  {
   "cell_type": "code",
   "execution_count": 31,
   "id": "ef07bb4a-8395-411a-9db5-f44ce990f5b1",
   "metadata": {},
   "outputs": [
    {
     "data": {
      "text/plain": [
       "[5, 20, 10, 6, 8]"
      ]
     },
     "execution_count": 31,
     "metadata": {},
     "output_type": "execute_result"
    }
   ],
   "source": [
    "m=[5,20,10,6,8]\n",
    "m"
   ]
  },
  {
   "cell_type": "code",
   "execution_count": 43,
   "id": "68aa41df-1dc6-4ded-9ae2-0ea943ef9641",
   "metadata": {},
   "outputs": [
    {
     "data": {
      "text/plain": [
       "[390625, 25600000000, 100000000, 1679616, 16777216]"
      ]
     },
     "execution_count": 43,
     "metadata": {},
     "output_type": "execute_result"
    }
   ],
   "source": [
    "n=[i**2 for i in m]\n",
    "n"
   ]
  },
  {
   "cell_type": "code",
   "execution_count": 45,
   "id": "64138c93-4d1f-4bf0-ab8b-7d1a64d35b18",
   "metadata": {},
   "outputs": [
    {
     "data": {
      "text/plain": [
       "(3, 6, 7, 8, 9)"
      ]
     },
     "execution_count": 45,
     "metadata": {},
     "output_type": "execute_result"
    }
   ],
   "source": [
    "b=(3,6,7,8,9)\n",
    "b"
   ]
  },
  {
   "cell_type": "code",
   "execution_count": 47,
   "id": "b8b87c99-a5c9-4f1e-812c-9a4b7ba49197",
   "metadata": {},
   "outputs": [
    {
     "data": {
      "text/plain": [
       "(8, 11, 12, 13, 14)"
      ]
     },
     "execution_count": 47,
     "metadata": {},
     "output_type": "execute_result"
    }
   ],
   "source": [
    "b=tuple(x+5 for x in b)\n",
    "b"
   ]
  },
  {
   "cell_type": "code",
   "execution_count": 51,
   "id": "48c11678-ac91-4176-9251-8cad4deb68e9",
   "metadata": {},
   "outputs": [
    {
     "data": {
      "text/plain": [
       "[85, 25, 85, 75, 35, 45, 95]"
      ]
     },
     "execution_count": 51,
     "metadata": {},
     "output_type": "execute_result"
    }
   ],
   "source": [
    "k=[85,25,85,75,35,45,95]\n",
    "k"
   ]
  },
  {
   "cell_type": "code",
   "execution_count": 55,
   "id": "6fddc198-8a43-4a23-83c6-77de0dab2464",
   "metadata": {},
   "outputs": [
    {
     "data": {
      "text/plain": [
       "(97, 37, 97, 87, 47, 57, 107)"
      ]
     },
     "execution_count": 55,
     "metadata": {},
     "output_type": "execute_result"
    }
   ],
   "source": [
    "k=tuple(x+7 for x in k)\n",
    "k"
   ]
  },
  {
   "cell_type": "code",
   "execution_count": 59,
   "id": "aecca54e-3bb0-4972-84ff-0bdf60887e46",
   "metadata": {},
   "outputs": [
    {
     "data": {
      "text/plain": [
       "[37, 47]"
      ]
     },
     "execution_count": 59,
     "metadata": {},
     "output_type": "execute_result"
    }
   ],
   "source": [
    "d=[]\n",
    "for i in k:\n",
    "    if i<50:\n",
    "        d.append(i)\n",
    "d"
   ]
  },
  {
   "cell_type": "code",
   "execution_count": 61,
   "id": "6eac3207-988f-478e-a039-89fa4f9681f2",
   "metadata": {},
   "outputs": [
    {
     "data": {
      "text/plain": [
       "array([[18, 20, 19, 18, 20, 19, 18],\n",
       "       [20, 20, 20, 19, 20, 19, 19],\n",
       "       [20, 19, 20, 18, 19, 20, 20],\n",
       "       [18, 18, 19, 19, 19, 18, 20],\n",
       "       [20, 19, 19, 18, 18, 18, 19],\n",
       "       [19, 18, 20, 18, 19, 19, 18]])"
      ]
     },
     "execution_count": 61,
     "metadata": {},
     "output_type": "execute_result"
    }
   ],
   "source": [
    "arr"
   ]
  },
  {
   "cell_type": "code",
   "execution_count": 63,
   "id": "ab4161fb-4794-4323-9cca-7921ff531b09",
   "metadata": {},
   "outputs": [
    {
     "data": {
      "text/plain": [
       "array([[20, 22, 21, 20, 22, 21, 20],\n",
       "       [22, 22, 22, 21, 22, 21, 21],\n",
       "       [22, 21, 22, 20, 21, 22, 22],\n",
       "       [20, 20, 21, 21, 21, 20, 22],\n",
       "       [22, 21, 21, 20, 20, 20, 21],\n",
       "       [21, 20, 22, 20, 21, 21, 20]])"
      ]
     },
     "execution_count": 63,
     "metadata": {},
     "output_type": "execute_result"
    }
   ],
   "source": [
    "t=arr+2\n",
    "t"
   ]
  },
  {
   "cell_type": "code",
   "execution_count": 65,
   "id": "c672a1c3-51ee-40ae-854b-64beff72c3b2",
   "metadata": {},
   "outputs": [
    {
     "data": {
      "text/plain": [
       "array([[324, 400, 361, 324, 400, 361, 324],\n",
       "       [400, 400, 400, 361, 400, 361, 361],\n",
       "       [400, 361, 400, 324, 361, 400, 400],\n",
       "       [324, 324, 361, 361, 361, 324, 400],\n",
       "       [400, 361, 361, 324, 324, 324, 361],\n",
       "       [361, 324, 400, 324, 361, 361, 324]])"
      ]
     },
     "execution_count": 65,
     "metadata": {},
     "output_type": "execute_result"
    }
   ],
   "source": [
    "arr**2"
   ]
  },
  {
   "cell_type": "code",
   "execution_count": 67,
   "id": "7aef5811-04fe-4178-9365-95f506822a5c",
   "metadata": {},
   "outputs": [
    {
     "data": {
      "text/plain": [
       "array([[ 9. , 10. ,  9.5,  9. , 10. ,  9.5,  9. ],\n",
       "       [10. , 10. , 10. ,  9.5, 10. ,  9.5,  9.5],\n",
       "       [10. ,  9.5, 10. ,  9. ,  9.5, 10. , 10. ],\n",
       "       [ 9. ,  9. ,  9.5,  9.5,  9.5,  9. , 10. ],\n",
       "       [10. ,  9.5,  9.5,  9. ,  9. ,  9. ,  9.5],\n",
       "       [ 9.5,  9. , 10. ,  9. ,  9.5,  9.5,  9. ]])"
      ]
     },
     "execution_count": 67,
     "metadata": {},
     "output_type": "execute_result"
    }
   ],
   "source": [
    "arr/2"
   ]
  },
  {
   "cell_type": "code",
   "execution_count": null,
   "id": "5aa7eea2-be00-4f85-9475-8515c30d0aaf",
   "metadata": {},
   "outputs": [],
   "source": []
  }
 ],
 "metadata": {
  "kernelspec": {
   "display_name": "Python [conda env:anaconda3]",
   "language": "python",
   "name": "conda-env-anaconda3-py"
  },
  "language_info": {
   "codemirror_mode": {
    "name": "ipython",
    "version": 3
   },
   "file_extension": ".py",
   "mimetype": "text/x-python",
   "name": "python",
   "nbconvert_exporter": "python",
   "pygments_lexer": "ipython3",
   "version": "3.12.7"
  }
 },
 "nbformat": 4,
 "nbformat_minor": 5
}
