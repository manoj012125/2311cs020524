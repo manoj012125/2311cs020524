{
  "nbformat": 4,
  "nbformat_minor": 0,
  "metadata": {
    "colab": {
      "provenance": [],
      "authorship_tag": "ABX9TyMs9mKZYHQMTzXbyl/6lM38",
      "include_colab_link": true
    },
    "kernelspec": {
      "name": "python3",
      "display_name": "Python 3"
    },
    "language_info": {
      "name": "python"
    }
  },
  "cells": [
    {
      "cell_type": "markdown",
      "metadata": {
        "id": "view-in-github",
        "colab_type": "text"
      },
      "source": [
        "<a href=\"https://colab.research.google.com/github/NagaramTarun/python/blob/main/Day8.ipynb\" target=\"_parent\"><img src=\"https://colab.research.google.com/assets/colab-badge.svg\" alt=\"Open In Colab\"/></a>"
      ]
    },
    {
      "cell_type": "markdown",
      "source": [
        "# **FOR loop**\n",
        "#**While loop**"
      ],
      "metadata": {
        "id": "JxOy_svoWNwS"
      }
    },
    {
      "cell_type": "code",
      "execution_count": 1,
      "metadata": {
        "colab": {
          "base_uri": "https://localhost:8080/"
        },
        "id": "4TEliyNLVxoc",
        "outputId": "c257bd5b-f02d-4f1d-a197-fa0c06394b7c"
      },
      "outputs": [
        {
          "output_type": "execute_result",
          "data": {
            "text/plain": [
              "[40, 20, 80, 50, 30, 60, 90]"
            ]
          },
          "metadata": {},
          "execution_count": 1
        }
      ],
      "source": [
        "y = [40,20,80,50,30,60,90]\n",
        "y"
      ]
    },
    {
      "cell_type": "code",
      "source": [
        "h=[]\n",
        "for i in y:\n",
        "  x = i*5+10\n",
        "  h.append(x)\n"
      ],
      "metadata": {
        "id": "oW4VX6UOa0CY"
      },
      "execution_count": 4,
      "outputs": []
    },
    {
      "cell_type": "code",
      "source": [
        "h"
      ],
      "metadata": {
        "colab": {
          "base_uri": "https://localhost:8080/"
        },
        "id": "PZ-YjUSTbANQ",
        "outputId": "bac2ae4e-1f94-49fe-9b76-a34a947ede43"
      },
      "execution_count": 3,
      "outputs": [
        {
          "output_type": "execute_result",
          "data": {
            "text/plain": [
              "[210, 110, 410, 260, 160, 310, 460]"
            ]
          },
          "metadata": {},
          "execution_count": 3
        }
      ]
    },
    {
      "cell_type": "code",
      "source": [
        "num = [31,45,66,33,90,78,67,87,89,93,25,59,9,81]\n",
        "num"
      ],
      "metadata": {
        "colab": {
          "base_uri": "https://localhost:8080/"
        },
        "id": "ytXvuvdXbBQ0",
        "outputId": "7990ffbf-355a-4583-cdc8-2b1ef096127a"
      },
      "execution_count": 5,
      "outputs": [
        {
          "output_type": "execute_result",
          "data": {
            "text/plain": [
              "[31, 45, 66, 33, 90, 78, 67, 87, 89, 93, 25, 59, 9, 81]"
            ]
          },
          "metadata": {},
          "execution_count": 5
        }
      ]
    },
    {
      "cell_type": "code",
      "source": [
        "even = []\n",
        "odd =[]\n",
        "for i in num:\n",
        "  if i%2==0:\n",
        "    even.append(i)\n",
        "  else:\n",
        "    odd.append(i)"
      ],
      "metadata": {
        "id": "TPEKM0-jdWcR"
      },
      "execution_count": 10,
      "outputs": []
    },
    {
      "cell_type": "code",
      "source": [
        "even"
      ],
      "metadata": {
        "colab": {
          "base_uri": "https://localhost:8080/"
        },
        "id": "LxEcpplmdv7Z",
        "outputId": "7428dcad-6c35-4b04-f5d0-2b8675c999a5"
      },
      "execution_count": 11,
      "outputs": [
        {
          "output_type": "execute_result",
          "data": {
            "text/plain": [
              "[66, 90, 78]"
            ]
          },
          "metadata": {},
          "execution_count": 11
        }
      ]
    },
    {
      "cell_type": "code",
      "source": [
        "odd"
      ],
      "metadata": {
        "colab": {
          "base_uri": "https://localhost:8080/"
        },
        "id": "BPdZiob_d3V9",
        "outputId": "bc44ce14-e313-423b-d811-b23a0fac2050"
      },
      "execution_count": 12,
      "outputs": [
        {
          "output_type": "execute_result",
          "data": {
            "text/plain": [
              "[31, 45, 33, 67, 87, 89, 93, 25, 59, 9, 81]"
            ]
          },
          "metadata": {},
          "execution_count": 12
        }
      ]
    },
    {
      "cell_type": "code",
      "source": [
        "num1 =[]\n",
        "for i in num:\n",
        "  j = str(i)\n",
        "  if j[0]=='8':\n",
        "    a = int('5'+j[1:])\n",
        "    num1.append(a)\n",
        "  else:\n",
        "    num1.append(int(j))\n",
        "num1"
      ],
      "metadata": {
        "colab": {
          "base_uri": "https://localhost:8080/"
        },
        "id": "4LV1jTGjd4Ds",
        "outputId": "583c1f4d-9cd6-45ac-8180-e0e8a4ebfd7b"
      },
      "execution_count": 26,
      "outputs": [
        {
          "output_type": "execute_result",
          "data": {
            "text/plain": [
              "[31, 45, 66, 33, 90, 78, 67, 57, 59, 93, 25, 59, 9, 51]"
            ]
          },
          "metadata": {},
          "execution_count": 26
        }
      ]
    },
    {
      "cell_type": "code",
      "source": [
        "a = input()\n",
        "b=''\n",
        "for i in a:\n",
        "    if i.lower() not in ('s','o'):\n",
        "      b+=i\n",
        "b\n"
      ],
      "metadata": {
        "colab": {
          "base_uri": "https://localhost:8080/",
          "height": 53
        },
        "id": "YDZNZJg0gY_-",
        "outputId": "fead44a4-7b1d-4924-8997-dff0fb13cd20"
      },
      "execution_count": 34,
      "outputs": [
        {
          "name": "stdout",
          "output_type": "stream",
          "text": [
            "soft\n"
          ]
        },
        {
          "output_type": "execute_result",
          "data": {
            "text/plain": [
              "'ft'"
            ],
            "application/vnd.google.colaboratory.intrinsic+json": {
              "type": "string"
            }
          },
          "metadata": {},
          "execution_count": 34
        }
      ]
    },
    {
      "cell_type": "code",
      "source": [],
      "metadata": {
        "colab": {
          "base_uri": "https://localhost:8080/"
        },
        "id": "esL-tnTUkT14",
        "outputId": "35f27f50-217f-4530-d35c-5bec789be927"
      },
      "execution_count": 27,
      "outputs": [
        {
          "output_type": "execute_result",
          "data": {
            "text/plain": [
              "5"
            ]
          },
          "metadata": {},
          "execution_count": 27
        }
      ]
    },
    {
      "cell_type": "code",
      "source": [],
      "metadata": {
        "id": "tk-aYvcnkXjC"
      },
      "execution_count": null,
      "outputs": []
    }
  ]
}