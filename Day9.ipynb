{
  "nbformat": 4,
  "nbformat_minor": 0,
  "metadata": {
    "colab": {
      "provenance": [],
      "authorship_tag": "ABX9TyO/uZX0ElHetNBRdo1bLqVA",
      "include_colab_link": true
    },
    "kernelspec": {
      "name": "python3",
      "display_name": "Python 3"
    },
    "language_info": {
      "name": "python"
    }
  },
  "cells": [
    {
      "cell_type": "markdown",
      "metadata": {
        "id": "view-in-github",
        "colab_type": "text"
      },
      "source": [
        "<a href=\"https://colab.research.google.com/github/NagaramTarun/python/blob/main/Day9.ipynb\" target=\"_parent\"><img src=\"https://colab.research.google.com/assets/colab-badge.svg\" alt=\"Open In Colab\"/></a>"
      ]
    },
    {
      "cell_type": "markdown",
      "source": [
        "# **Functions**"
      ],
      "metadata": {
        "id": "fCTFFsT_iwN6"
      }
    },
    {
      "cell_type": "code",
      "execution_count": null,
      "metadata": {
        "id": "w-hUuTdEehLx"
      },
      "outputs": [],
      "source": [
        "def function_name(parameter):\n",
        "  block of code\n",
        "  return output"
      ]
    },
    {
      "cell_type": "code",
      "source": [
        "def Area(r):\n",
        "  area = 3.14*r*r\n",
        "  return area"
      ],
      "metadata": {
        "id": "9iUKtGSujDoo"
      },
      "execution_count": 1,
      "outputs": []
    },
    {
      "cell_type": "code",
      "source": [
        "Area(r=23)"
      ],
      "metadata": {
        "colab": {
          "base_uri": "https://localhost:8080/"
        },
        "id": "NBuTFeocjM3s",
        "outputId": "25e8e1f1-2d5d-4f1f-c563-a9d15197b54f"
      },
      "execution_count": 2,
      "outputs": [
        {
          "output_type": "execute_result",
          "data": {
            "text/plain": [
              "1661.06"
            ]
          },
          "metadata": {},
          "execution_count": 2
        }
      ]
    },
    {
      "cell_type": "code",
      "source": [
        "h = Area(r=12)\n",
        "h"
      ],
      "metadata": {
        "colab": {
          "base_uri": "https://localhost:8080/"
        },
        "id": "pki-1EkLjXxl",
        "outputId": "c226f9ba-292b-4e69-f415-10c17ef1fe7d"
      },
      "execution_count": 5,
      "outputs": [
        {
          "output_type": "execute_result",
          "data": {
            "text/plain": [
              "452.15999999999997"
            ]
          },
          "metadata": {},
          "execution_count": 5
        }
      ]
    },
    {
      "cell_type": "code",
      "source": [
        "type(h)"
      ],
      "metadata": {
        "colab": {
          "base_uri": "https://localhost:8080/"
        },
        "id": "FXHG3QjPjmK_",
        "outputId": "e17bc1fc-6b50-43f5-a108-99f0594e2f28"
      },
      "execution_count": 7,
      "outputs": [
        {
          "output_type": "execute_result",
          "data": {
            "text/plain": [
              "float"
            ]
          },
          "metadata": {},
          "execution_count": 7
        }
      ]
    },
    {
      "cell_type": "code",
      "source": [
        "def Area(r):\n",
        "  area = 3.14*r*r\n",
        "  print(area)"
      ],
      "metadata": {
        "id": "WFNPNgFWj4DD"
      },
      "execution_count": 8,
      "outputs": []
    },
    {
      "cell_type": "code",
      "source": [
        "b = Area(3)\n",
        "b"
      ],
      "metadata": {
        "colab": {
          "base_uri": "https://localhost:8080/"
        },
        "id": "xINIzL2KkUO0",
        "outputId": "e63761df-1e66-4ec7-acb3-8bba9552b722"
      },
      "execution_count": 10,
      "outputs": [
        {
          "output_type": "stream",
          "name": "stdout",
          "text": [
            "28.259999999999998\n"
          ]
        }
      ]
    },
    {
      "cell_type": "code",
      "source": [
        "type(b)"
      ],
      "metadata": {
        "colab": {
          "base_uri": "https://localhost:8080/"
        },
        "id": "cVp3tQTYkXs5",
        "outputId": "f86d30c9-8b26-4b61-80bf-5cbe9016d46c"
      },
      "execution_count": 11,
      "outputs": [
        {
          "output_type": "execute_result",
          "data": {
            "text/plain": [
              "NoneType"
            ]
          },
          "metadata": {},
          "execution_count": 11
        }
      ]
    },
    {
      "cell_type": "code",
      "source": [
        "#use always return key word for getting statement dont use print because if u use return it also returns the type of the output\n",
        "#but incase of print it returns Nonetype of type for the type of the output where v cant perform further operations"
      ],
      "metadata": {
        "id": "plAJcyeKkcms"
      },
      "execution_count": 12,
      "outputs": []
    },
    {
      "cell_type": "code",
      "source": [
        "h+8"
      ],
      "metadata": {
        "colab": {
          "base_uri": "https://localhost:8080/"
        },
        "id": "DePUUqaxlBSC",
        "outputId": "ecb75a8c-8393-4254-afe5-f0670304f06c"
      },
      "execution_count": 13,
      "outputs": [
        {
          "output_type": "execute_result",
          "data": {
            "text/plain": [
              "460.15999999999997"
            ]
          },
          "metadata": {},
          "execution_count": 13
        }
      ]
    },
    {
      "cell_type": "code",
      "source": [
        "b+2"
      ],
      "metadata": {
        "colab": {
          "base_uri": "https://localhost:8080/",
          "height": 144
        },
        "id": "7SMOYiNOlL1h",
        "outputId": "00ac677c-2f78-44ed-c997-be6e96d3de8c"
      },
      "execution_count": 14,
      "outputs": [
        {
          "output_type": "error",
          "ename": "TypeError",
          "evalue": "unsupported operand type(s) for +: 'NoneType' and 'int'",
          "traceback": [
            "\u001b[0;31m---------------------------------------------------------------------------\u001b[0m",
            "\u001b[0;31mTypeError\u001b[0m                                 Traceback (most recent call last)",
            "\u001b[0;32m<ipython-input-14-8a0b888f7922>\u001b[0m in \u001b[0;36m<cell line: 1>\u001b[0;34m()\u001b[0m\n\u001b[0;32m----> 1\u001b[0;31m \u001b[0mb\u001b[0m\u001b[0;34m+\u001b[0m\u001b[0;36m2\u001b[0m\u001b[0;34m\u001b[0m\u001b[0;34m\u001b[0m\u001b[0m\n\u001b[0m",
            "\u001b[0;31mTypeError\u001b[0m: unsupported operand type(s) for +: 'NoneType' and 'int'"
          ]
        }
      ]
    },
    {
      "cell_type": "code",
      "source": [
        "def Area_Rec(l,b):\n",
        "  return l*b"
      ],
      "metadata": {
        "id": "aB_1VSdKlNxF"
      },
      "execution_count": 15,
      "outputs": []
    },
    {
      "cell_type": "code",
      "source": [
        "Area_Rec(23,45)"
      ],
      "metadata": {
        "colab": {
          "base_uri": "https://localhost:8080/"
        },
        "id": "uhR7O1tjmP5S",
        "outputId": "28a858d9-46b9-4cfd-af37-e8b63f9379e9"
      },
      "execution_count": 16,
      "outputs": [
        {
          "output_type": "execute_result",
          "data": {
            "text/plain": [
              "1035"
            ]
          },
          "metadata": {},
          "execution_count": 16
        }
      ]
    },
    {
      "cell_type": "code",
      "source": [
        "def area(r,l,b):\n",
        "  return l*b , 3.14*r*r\n",
        "i,j=area(2,5,6)"
      ],
      "metadata": {
        "id": "-0WfQGEemWYH"
      },
      "execution_count": 18,
      "outputs": []
    },
    {
      "cell_type": "code",
      "source": [
        "i"
      ],
      "metadata": {
        "colab": {
          "base_uri": "https://localhost:8080/"
        },
        "id": "oOZGAmz8oMt4",
        "outputId": "6b2b2ec5-5c73-4109-fe29-f70d3b5bdaa2"
      },
      "execution_count": 21,
      "outputs": [
        {
          "output_type": "execute_result",
          "data": {
            "text/plain": [
              "30"
            ]
          },
          "metadata": {},
          "execution_count": 21
        }
      ]
    },
    {
      "cell_type": "code",
      "source": [
        "j"
      ],
      "metadata": {
        "colab": {
          "base_uri": "https://localhost:8080/"
        },
        "id": "3_06ML31oc_D",
        "outputId": "39b67dc3-a056-4ad4-ed0b-d613b58ebec8"
      },
      "execution_count": 22,
      "outputs": [
        {
          "output_type": "execute_result",
          "data": {
            "text/plain": [
              "12.56"
            ]
          },
          "metadata": {},
          "execution_count": 22
        }
      ]
    },
    {
      "cell_type": "code",
      "source": [
        "def Area(r,l,b):\n",
        "  return {'Area of cirlce': l*b ,'Area of rectangle': 3.14*r*r}\n",
        "Area(2,5,6)"
      ],
      "metadata": {
        "colab": {
          "base_uri": "https://localhost:8080/"
        },
        "id": "1osGPxaPoda5",
        "outputId": "83b03644-e602-484b-f7b7-77ec9eceb331"
      },
      "execution_count": 23,
      "outputs": [
        {
          "output_type": "execute_result",
          "data": {
            "text/plain": [
              "{'Area of cirlce': 30, 'Area of rectangle': 12.56}"
            ]
          },
          "metadata": {},
          "execution_count": 23
        }
      ]
    },
    {
      "cell_type": "code",
      "source": [
        "def Count(t):\n",
        "  b= t.lower()\n",
        "  return b.count('a')"
      ],
      "metadata": {
        "id": "VCtEs64EpZgw"
      },
      "execution_count": 24,
      "outputs": []
    },
    {
      "cell_type": "code",
      "source": [
        "Count('HyderabAAd')"
      ],
      "metadata": {
        "colab": {
          "base_uri": "https://localhost:8080/"
        },
        "id": "pWKUWNOKqhuc",
        "outputId": "d50c99cb-8ec9-4496-b1d6-965ea2845bab"
      },
      "execution_count": 25,
      "outputs": [
        {
          "output_type": "execute_result",
          "data": {
            "text/plain": [
              "3"
            ]
          },
          "metadata": {},
          "execution_count": 25
        }
      ]
    },
    {
      "cell_type": "code",
      "source": [
        "def Count_String(a):\n",
        "  u=0\n",
        "  g=0\n",
        "  for i in a:\n",
        "    if i in ('1','2','3','4','5','6','7','8','9','0'):\n",
        "      u+=1\n",
        "    elif i==' ':\n",
        "      pass\n",
        "    else:\n",
        "      g+=1\n",
        "  return {'digits':u,'alphabets':g}\n",
        ""
      ],
      "metadata": {
        "id": "mCV3GmztqnSn"
      },
      "execution_count": 39,
      "outputs": []
    },
    {
      "cell_type": "code",
      "source": [
        "Count_String('HyderabAAd 500008 Telangana')"
      ],
      "metadata": {
        "colab": {
          "base_uri": "https://localhost:8080/"
        },
        "id": "RRIU8wrnr4UE",
        "outputId": "03189049-8815-48d7-db79-ac87601aeb52"
      },
      "execution_count": 40,
      "outputs": [
        {
          "output_type": "execute_result",
          "data": {
            "text/plain": [
              "{'digits': 6, 'alphabets': 19}"
            ]
          },
          "metadata": {},
          "execution_count": 40
        }
      ]
    },
    {
      "cell_type": "code",
      "source": [
        "def count_num_alpha(a):\n",
        "  c=0\n",
        "  d=0\n",
        "  for i in a:\n",
        "    if i.isalpha():\n",
        "      c+=1\n",
        "    elif i.isdigit():\n",
        "      d+=1\n",
        "  return {'alphabets':c,'digits':d}"
      ],
      "metadata": {
        "id": "wDW2PgVSsIvt"
      },
      "execution_count": 41,
      "outputs": []
    },
    {
      "cell_type": "code",
      "source": [
        " count_num_alpha('HyderabAAd 500008 Telangana')"
      ],
      "metadata": {
        "colab": {
          "base_uri": "https://localhost:8080/"
        },
        "id": "QAuMHe5Vtn_9",
        "outputId": "acf2ee61-e6a3-4c3d-bfe7-98813a4f6c72"
      },
      "execution_count": 42,
      "outputs": [
        {
          "output_type": "execute_result",
          "data": {
            "text/plain": [
              "{'alphabets': 19, 'digits': 6}"
            ]
          },
          "metadata": {},
          "execution_count": 42
        }
      ]
    },
    {
      "cell_type": "code",
      "source": [],
      "metadata": {
        "id": "lR7c1rtbtsfN"
      },
      "execution_count": null,
      "outputs": []
    }
  ]
}