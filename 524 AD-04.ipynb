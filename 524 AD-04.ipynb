{
 "cells": [
  {
   "cell_type": "markdown",
   "id": "a4bb8cd0-d7dc-4d7a-96a6-c9e7f2cfc573",
   "metadata": {},
   "source": [
    "Dictionaries"
   ]
  },
  {
   "cell_type": "code",
   "execution_count": 22,
   "id": "88b49c18-c355-4ef9-a853-c5b8127cd8da",
   "metadata": {},
   "outputs": [
    {
     "data": {
      "text/plain": [
       "{101: 4, 102: 7, 103: 2}"
      ]
     },
     "execution_count": 22,
     "metadata": {},
     "output_type": "execute_result"
    }
   ],
   "source": [
    "d = { 101: 4,102: 7,103: 2}\n",
    "d\n"
   ]
  },
  {
   "cell_type": "code",
   "execution_count": 23,
   "id": "2d04adbd-d538-4dc2-9170-af433ffbe095",
   "metadata": {},
   "outputs": [
    {
     "data": {
      "text/plain": [
       "4"
      ]
     },
     "execution_count": 23,
     "metadata": {},
     "output_type": "execute_result"
    }
   ],
   "source": [
    "d[101]  # it gives the value of the position by using the above keys  "
   ]
  },
  {
   "cell_type": "code",
   "execution_count": 24,
   "id": "905221b4-0e3c-47a3-8adb-ed305dc29d26",
   "metadata": {},
   "outputs": [
    {
     "data": {
      "text/plain": [
       "2"
      ]
     },
     "execution_count": 24,
     "metadata": {},
     "output_type": "execute_result"
    }
   ],
   "source": [
    "d[103]"
   ]
  },
  {
   "cell_type": "code",
   "execution_count": 25,
   "id": "ce2b9a1e-53ca-4457-9cc7-ba242e7b7a25",
   "metadata": {},
   "outputs": [
    {
     "data": {
      "text/plain": [
       "{101: 40, 102: 7, 103: 2}"
      ]
     },
     "execution_count": 25,
     "metadata": {},
     "output_type": "execute_result"
    }
   ],
   "source": [
    "d[101] = 40 #to change the values direct use the key values\n",
    "d"
   ]
  },
  {
   "cell_type": "code",
   "execution_count": 26,
   "id": "dded16f9-81a1-451b-b501-6d0d7b159678",
   "metadata": {},
   "outputs": [
    {
     "data": {
      "text/plain": [
       "{101: 40, 102: 99, 103: 2}"
      ]
     },
     "execution_count": 26,
     "metadata": {},
     "output_type": "execute_result"
    }
   ],
   "source": [
    "d.update({102: 99}) #to change the values use update method\n",
    "d"
   ]
  },
  {
   "cell_type": "code",
   "execution_count": 27,
   "id": "c5e5f843-d7df-48f5-bb61-45147c0f61ae",
   "metadata": {},
   "outputs": [
    {
     "data": {
      "text/plain": [
       "{101: 40, 102: 99, 103: 500}"
      ]
     },
     "execution_count": 27,
     "metadata": {},
     "output_type": "execute_result"
    }
   ],
   "source": [
    "d[103] = 500\n",
    "d"
   ]
  },
  {
   "cell_type": "code",
   "execution_count": 28,
   "id": "cfae70a2-9e92-44f2-9135-7123c34f5d41",
   "metadata": {},
   "outputs": [
    {
     "data": {
      "text/plain": [
       "{101: 40, 102: 99, 103: 500, 'B': 50}"
      ]
     },
     "execution_count": 28,
     "metadata": {},
     "output_type": "execute_result"
    }
   ],
   "source": [
    "d['B'] = 50 #assign the new key value\n",
    "d"
   ]
  },
  {
   "cell_type": "code",
   "execution_count": 29,
   "id": "da68870e-3ab3-4cba-b168-c8ff64db33d7",
   "metadata": {},
   "outputs": [
    {
     "data": {
      "text/plain": [
       "50"
      ]
     },
     "execution_count": 29,
     "metadata": {},
     "output_type": "execute_result"
    }
   ],
   "source": [
    "d['B']"
   ]
  },
  {
   "cell_type": "code",
   "execution_count": 30,
   "id": "a9e1583f-226a-41ae-87d5-6df2cbf39bcd",
   "metadata": {},
   "outputs": [
    {
     "data": {
      "text/plain": [
       "{101: 'India', 102: 99, 103: 500, 'B': 50}"
      ]
     },
     "execution_count": 30,
     "metadata": {},
     "output_type": "execute_result"
    }
   ],
   "source": [
    "d.update({101: 'India'})\n",
    "d"
   ]
  },
  {
   "cell_type": "code",
   "execution_count": 31,
   "id": "c08c60e6-8e61-4ac8-98ad-40c025102b99",
   "metadata": {},
   "outputs": [
    {
     "data": {
      "text/plain": [
       "500"
      ]
     },
     "execution_count": 31,
     "metadata": {},
     "output_type": "execute_result"
    }
   ],
   "source": [
    "d.get(103) # it will helps to  get the key values(method 2) "
   ]
  },
  {
   "cell_type": "code",
   "execution_count": 32,
   "id": "193921d6-30e4-4b34-9da5-5c45caa8142e",
   "metadata": {},
   "outputs": [
    {
     "data": {
      "text/plain": [
       "{101: 'India', 102: 'India', 103: 500, 'B': 50}"
      ]
     },
     "execution_count": 32,
     "metadata": {},
     "output_type": "execute_result"
    }
   ],
   "source": [
    "d.update({102: 'India'}) # Dictionaries allow dupilicate values but not the keys \n",
    "d"
   ]
  },
  {
   "cell_type": "code",
   "execution_count": 33,
   "id": "d39a7e81-6e01-4e46-8bab-3d7f7e800373",
   "metadata": {},
   "outputs": [
    {
     "data": {
      "text/plain": [
       "{101: 'India', 102: 'India', 103: 500}"
      ]
     },
     "execution_count": 33,
     "metadata": {},
     "output_type": "execute_result"
    }
   ],
   "source": [
    "del d['B'] # it is used to delete the key \n",
    "d"
   ]
  },
  {
   "cell_type": "code",
   "execution_count": 34,
   "id": "7081d3f0-d1ab-4029-864c-b34d794b3298",
   "metadata": {},
   "outputs": [
    {
     "data": {
      "text/plain": [
       "dict_values(['India', 'India', 500])"
      ]
     },
     "execution_count": 34,
     "metadata": {},
     "output_type": "execute_result"
    }
   ],
   "source": [
    "d.values() # it will shows the values in the dictionary "
   ]
  },
  {
   "cell_type": "code",
   "execution_count": 35,
   "id": "8c378798-b8ea-4dd2-9293-b2c197d12eb4",
   "metadata": {},
   "outputs": [
    {
     "data": {
      "text/plain": [
       "dict_keys([101, 102, 103])"
      ]
     },
     "execution_count": 35,
     "metadata": {},
     "output_type": "execute_result"
    }
   ],
   "source": [
    "d.keys() # it will shows the key values "
   ]
  },
  {
   "cell_type": "code",
   "execution_count": 36,
   "id": "236fa133-0259-4ac1-830b-b2a2e23db156",
   "metadata": {},
   "outputs": [
    {
     "data": {
      "text/plain": [
       "dict_items([(101, 'India'), (102, 'India'), (103, 500)])"
      ]
     },
     "execution_count": 36,
     "metadata": {},
     "output_type": "execute_result"
    }
   ],
   "source": [
    "d.items() # it will shows the total items in the dictionary"
   ]
  },
  {
   "cell_type": "code",
   "execution_count": 38,
   "id": "082ae50c-f2b9-4189-ae23-341186a0eb76",
   "metadata": {},
   "outputs": [
    {
     "data": {
      "text/plain": [
       "{101: 'India', 102: [400, 800], 103: 500}"
      ]
     },
     "execution_count": 38,
     "metadata": {},
     "output_type": "execute_result"
    }
   ],
   "source": [
    "d.update({102:[400,800]})\n",
    "d"
   ]
  },
  {
   "cell_type": "code",
   "execution_count": 39,
   "id": "93dbe1b9-58f3-4588-9880-9dc0ffe284da",
   "metadata": {},
   "outputs": [
    {
     "data": {
      "text/plain": [
       "[400, 800]"
      ]
     },
     "execution_count": 39,
     "metadata": {},
     "output_type": "execute_result"
    }
   ],
   "source": [
    "d[102]"
   ]
  },
  {
   "cell_type": "code",
   "execution_count": 40,
   "id": "380dd1b4-c2ce-459e-8aa1-286e3d09fc43",
   "metadata": {},
   "outputs": [
    {
     "data": {
      "text/plain": [
       "list"
      ]
     },
     "execution_count": 40,
     "metadata": {},
     "output_type": "execute_result"
    }
   ],
   "source": [
    "type(d[102]) #Type of particular value d(dictionary)"
   ]
  },
  {
   "cell_type": "code",
   "execution_count": 41,
   "id": "ea318225-5dcb-4037-81ba-07c6b09cd9c7",
   "metadata": {},
   "outputs": [
    {
     "data": {
      "text/plain": [
       "str"
      ]
     },
     "execution_count": 41,
     "metadata": {},
     "output_type": "execute_result"
    }
   ],
   "source": [
    "type(d[101])"
   ]
  },
  {
   "cell_type": "code",
   "execution_count": 42,
   "id": "7b8dc703-2b86-4d2f-8f2f-99834fdb149e",
   "metadata": {},
   "outputs": [
    {
     "data": {
      "text/plain": [
       "int"
      ]
     },
     "execution_count": 42,
     "metadata": {},
     "output_type": "execute_result"
    }
   ],
   "source": [
    "type(d[103])"
   ]
  },
  {
   "cell_type": "code",
   "execution_count": 43,
   "id": "b3ac460d-6f82-4854-89b4-7a65517b311e",
   "metadata": {},
   "outputs": [
    {
     "data": {
      "text/plain": [
       "{101: 'India', 102: [400, 800], 103: 500}"
      ]
     },
     "execution_count": 43,
     "metadata": {},
     "output_type": "execute_result"
    }
   ],
   "source": [
    "d"
   ]
  },
  {
   "cell_type": "code",
   "execution_count": 44,
   "id": "60c84b82-dcd6-48ef-ba6e-9b647789e6eb",
   "metadata": {},
   "outputs": [
    {
     "data": {
      "text/plain": [
       "{101: (1, 2, 3, 4, 5), 102: [400, 800], 103: 'America'}"
      ]
     },
     "execution_count": 44,
     "metadata": {},
     "output_type": "execute_result"
    }
   ],
   "source": [
    "d[101] = 1,2,3,4,5\n",
    "d[103] = 'America'\n",
    "d"
   ]
  },
  {
   "cell_type": "code",
   "execution_count": 47,
   "id": "df7581c1-a65e-489e-a0f1-717437ec4df3",
   "metadata": {},
   "outputs": [
    {
     "data": {
      "text/plain": [
       "{101: (1, 2, 3, 4, 5), 102: [400, 800, 900], 103: 'America'}"
      ]
     },
     "execution_count": 47,
     "metadata": {},
     "output_type": "execute_result"
    }
   ],
   "source": [
    "d[102].append(900) # append is used to insert key values (method 2)\n",
    "d"
   ]
  },
  {
   "cell_type": "code",
   "execution_count": 53,
   "id": "d00363fd-10a3-4f5f-b649-316642d4e74c",
   "metadata": {},
   "outputs": [
    {
     "data": {
      "text/plain": [
       "{101: {50: [1, 2, 3, 4, 5], 'apple': (20, 4, 30, [20, 40])},\n",
       " 102: [400, 800, 900],\n",
       " 103: 'America'}"
      ]
     },
     "execution_count": 53,
     "metadata": {},
     "output_type": "execute_result"
    }
   ],
   "source": [
    "d[101] = {50:[1,2,3,4,5], 'apple':(20, 4, 30,[20,40])}\n",
    "d"
   ]
  },
  {
   "cell_type": "code",
   "execution_count": 54,
   "id": "120a0324-c09e-452e-8701-12063f9153b5",
   "metadata": {},
   "outputs": [
    {
     "data": {
      "text/plain": [
       "{101: {50: [1, 2, 3, 4, 5], 'apple': (20, 4, 30, [20, 180, 40])},\n",
       " 102: [400, 800, 900],\n",
       " 103: 'America'}"
      ]
     },
     "execution_count": 54,
     "metadata": {},
     "output_type": "execute_result"
    }
   ],
   "source": [
    "d[101] = {50:[1,2,3,4,5], 'apple': (20, 4, 30, [20,180,40])}\n",
    "d"
   ]
  },
  {
   "cell_type": "code",
   "execution_count": 55,
   "id": "5f9fe7f7-9791-4c74-9999-df19a840c761",
   "metadata": {},
   "outputs": [
    {
     "data": {
      "text/plain": [
       "{50: [1, 2, 3, 4, 5], 'apple': (20, 4, 30, [20, 180, 40])}"
      ]
     },
     "execution_count": 55,
     "metadata": {},
     "output_type": "execute_result"
    }
   ],
   "source": [
    "d[101]"
   ]
  },
  {
   "cell_type": "code",
   "execution_count": 56,
   "id": "b69bc7d8-10e9-48c9-974c-8d25e9b46e04",
   "metadata": {},
   "outputs": [
    {
     "data": {
      "text/plain": [
       "(20, 4, 30, [20, 180, 40])"
      ]
     },
     "execution_count": 56,
     "metadata": {},
     "output_type": "execute_result"
    }
   ],
   "source": [
    "d[101]['apple']"
   ]
  },
  {
   "cell_type": "code",
   "execution_count": 57,
   "id": "a11d3fe1-6342-44bc-b5b2-6f8eea28daf1",
   "metadata": {},
   "outputs": [
    {
     "data": {
      "text/plain": [
       "4"
      ]
     },
     "execution_count": 57,
     "metadata": {},
     "output_type": "execute_result"
    }
   ],
   "source": [
    "d[101]['apple'][1]"
   ]
  },
  {
   "cell_type": "code",
   "execution_count": 58,
   "id": "79af30c3-4a9e-483b-8767-9a1c2a0b396f",
   "metadata": {},
   "outputs": [
    {
     "data": {
      "text/plain": [
       "180"
      ]
     },
     "execution_count": 58,
     "metadata": {},
     "output_type": "execute_result"
    }
   ],
   "source": [
    "d[101]['apple'][3][1]"
   ]
  },
  {
   "cell_type": "code",
   "execution_count": 59,
   "id": "cb155682-bf9f-4175-b4f3-2cb4653ce3c2",
   "metadata": {},
   "outputs": [
    {
     "data": {
      "text/plain": [
       "{50: [1, 2, 3, 4, 5], 'apple': (20, 4, 30, [20, 180, 40])}"
      ]
     },
     "execution_count": 59,
     "metadata": {},
     "output_type": "execute_result"
    }
   ],
   "source": [
    "d[101]"
   ]
  },
  {
   "cell_type": "code",
   "execution_count": null,
   "id": "ac3f51e7-8028-42e8-9715-a399261162ad",
   "metadata": {},
   "outputs": [],
   "source": []
  }
 ],
 "metadata": {
  "kernelspec": {
   "display_name": "Python 3 (ipykernel)",
   "language": "python",
   "name": "python3"
  },
  "language_info": {
   "codemirror_mode": {
    "name": "ipython",
    "version": 3
   },
   "file_extension": ".py",
   "mimetype": "text/x-python",
   "name": "python",
   "nbconvert_exporter": "python",
   "pygments_lexer": "ipython3",
   "version": "3.12.7"
  }
 },
 "nbformat": 4,
 "nbformat_minor": 5
}
