{
 "cells": [
  {
   "cell_type": "code",
   "execution_count": 5,
   "id": "d985c470-ce64-4e76-8af5-3ea810912002",
   "metadata": {},
   "outputs": [
    {
     "data": {
      "text/plain": [
       "list"
      ]
     },
     "execution_count": 5,
     "metadata": {},
     "output_type": "execute_result"
    }
   ],
   "source": [
    "import numpy as np\n",
    "j=[4,6,2,8,9]\n",
    "type(j)"
   ]
  },
  {
   "cell_type": "code",
   "execution_count": null,
   "id": "f1a4b169-259a-4aee-8361-c542692a3209",
   "metadata": {},
   "outputs": [],
   "source": [
    "LIBRARY                      FUNCTIONS\n",
    "\n",
    "1)numpy                     array operations\n",
    "2)pandas                    Datamanipulation and analysis\n",
    "3)matplotlib and Seaborn    Graphical Analysis\n",
    "4)sklearn                   Machine Learning Algorithms and Techniques\n",
    "5)statsmodels               Statastical Analysis\n",
    "6)scipy                     Statastical Analysis"
   ]
  },
  {
   "cell_type": "code",
   "execution_count": 11,
   "id": "2d823dd7-b046-4502-8e21-cddbd66ff145",
   "metadata": {},
   "outputs": [
    {
     "data": {
      "text/plain": [
       "array([4, 6, 2, 8, 9])"
      ]
     },
     "execution_count": 11,
     "metadata": {},
     "output_type": "execute_result"
    }
   ],
   "source": [
    "np.array(j)  #Converts the list into an array\n"
   ]
  },
  {
   "cell_type": "code",
   "execution_count": 13,
   "id": "6b1cc486-82c2-48c8-a18a-29ef9e386176",
   "metadata": {},
   "outputs": [
    {
     "data": {
      "text/plain": [
       "(4, 6, 2, 8, 9)"
      ]
     },
     "execution_count": 13,
     "metadata": {},
     "output_type": "execute_result"
    }
   ],
   "source": [
    "\n",
    "tuple(j) #Directly coverts into tuple"
   ]
  },
  {
   "cell_type": "code",
   "execution_count": 26,
   "id": "c8a32b4a-1c85-4e4c-b9ee-ce69ecc22aaa",
   "metadata": {},
   "outputs": [],
   "source": [
    "n=[4, 8, 4, 5, 7, 5, 4]\n",
    "d=np.array(n)"
   ]
  },
  {
   "cell_type": "code",
   "execution_count": 28,
   "id": "db1593f7-66da-471d-b0eb-4aa4f4c5da6c",
   "metadata": {},
   "outputs": [
    {
     "data": {
      "text/plain": [
       "array([4, 8, 4, 5, 7, 5, 4])"
      ]
     },
     "execution_count": 28,
     "metadata": {},
     "output_type": "execute_result"
    }
   ],
   "source": [
    "d"
   ]
  },
  {
   "cell_type": "code",
   "execution_count": 30,
   "id": "3ee16a56-9eea-4378-a3cc-4f058e20ed4a",
   "metadata": {},
   "outputs": [
    {
     "data": {
      "text/plain": [
       "(7,)"
      ]
     },
     "execution_count": 30,
     "metadata": {},
     "output_type": "execute_result"
    }
   ],
   "source": [
    "d.shape"
   ]
  },
  {
   "cell_type": "code",
   "execution_count": 32,
   "id": "59d1ea5d-f69b-4494-9401-551f33ffe9e1",
   "metadata": {},
   "outputs": [
    {
     "data": {
      "text/plain": [
       "1"
      ]
     },
     "execution_count": 32,
     "metadata": {},
     "output_type": "execute_result"
    }
   ],
   "source": [
    "d.ndim"
   ]
  },
  {
   "cell_type": "code",
   "execution_count": 34,
   "id": "ee5ffb71-69ab-41ee-9ebe-ca6bb9131ac0",
   "metadata": {},
   "outputs": [
    {
     "data": {
      "text/plain": [
       "7"
      ]
     },
     "execution_count": 34,
     "metadata": {},
     "output_type": "execute_result"
    }
   ],
   "source": [
    "d.size"
   ]
  },
  {
   "cell_type": "code",
   "execution_count": 74,
   "id": "d8c9ec63-7153-40e4-9d1d-4598fd437cb6",
   "metadata": {},
   "outputs": [
    {
     "data": {
      "text/plain": [
       "[[4, 8, 3, 5, 7, 5, 4],\n",
       " [56, 78, 54, 20, 43, 62, 78],\n",
       " [67, 98, 80, 49, 98, 78, 45],\n",
       " [77, 88, 22, 55, 78, 54, 65],\n",
       " [90, 40, 70, 60, 88, 97, 64]]"
      ]
     },
     "execution_count": 74,
     "metadata": {},
     "output_type": "execute_result"
    }
   ],
   "source": [
    "s=[[4, 8, 3, 5, 7, 5, 4],[56,78,54,20,43,62,78],[67,98,80,49,98,78,45],[77,88,22,55,78,54,65],[90,40,70,60,88,97,64]]\n",
    "s"
   ]
  },
  {
   "cell_type": "code",
   "execution_count": 76,
   "id": "02be00e0-3953-4b50-a5b1-dd2da2544586",
   "metadata": {},
   "outputs": [
    {
     "data": {
      "text/plain": [
       "list"
      ]
     },
     "execution_count": 76,
     "metadata": {},
     "output_type": "execute_result"
    }
   ],
   "source": [
    "type(s)"
   ]
  },
  {
   "cell_type": "code",
   "execution_count": 78,
   "id": "4e8adda0-20be-4723-bf31-c9dae1bb3030",
   "metadata": {},
   "outputs": [
    {
     "data": {
      "text/plain": [
       "array([[ 4,  8,  3,  5,  7,  5,  4],\n",
       "       [56, 78, 54, 20, 43, 62, 78],\n",
       "       [67, 98, 80, 49, 98, 78, 45],\n",
       "       [77, 88, 22, 55, 78, 54, 65],\n",
       "       [90, 40, 70, 60, 88, 97, 64]])"
      ]
     },
     "execution_count": 78,
     "metadata": {},
     "output_type": "execute_result"
    }
   ],
   "source": [
    "arr1=np.array(s)\n",
    "arr1"
   ]
  },
  {
   "cell_type": "code",
   "execution_count": 80,
   "id": "01584524-ffb2-4956-9574-a766b14bde26",
   "metadata": {},
   "outputs": [
    {
     "data": {
      "text/plain": [
       "(5, 7)"
      ]
     },
     "execution_count": 80,
     "metadata": {},
     "output_type": "execute_result"
    }
   ],
   "source": [
    "arr1.shape"
   ]
  },
  {
   "cell_type": "code",
   "execution_count": 84,
   "id": "4a7bc956-2a18-4e22-9b24-4ab850b3e627",
   "metadata": {},
   "outputs": [
    {
     "data": {
      "text/plain": [
       "35"
      ]
     },
     "execution_count": 84,
     "metadata": {},
     "output_type": "execute_result"
    }
   ],
   "source": [
    "arr1.size"
   ]
  },
  {
   "cell_type": "code",
   "execution_count": 88,
   "id": "0b3e2bc1-c2cf-4a9f-a5a9-ea50ae9be826",
   "metadata": {},
   "outputs": [
    {
     "data": {
      "text/plain": [
       "2"
      ]
     },
     "execution_count": 88,
     "metadata": {},
     "output_type": "execute_result"
    }
   ],
   "source": [
    "arr1.ndim"
   ]
  },
  {
   "cell_type": "code",
   "execution_count": 102,
   "id": "c99a8e2c-151d-4efe-9b31-7dce13398a8e",
   "metadata": {},
   "outputs": [
    {
     "data": {
      "text/plain": [
       "array([[ 4,  8,  3,  5,  7],\n",
       "       [ 5,  4, 56, 78, 54],\n",
       "       [20, 43, 62, 78, 67],\n",
       "       [98, 80, 49, 98, 78],\n",
       "       [45, 77, 88, 22, 55],\n",
       "       [78, 54, 65, 90, 40],\n",
       "       [70, 60, 88, 97, 64]])"
      ]
     },
     "execution_count": 102,
     "metadata": {},
     "output_type": "execute_result"
    }
   ],
   "source": [
    "arr1.reshape(7, 5)"
   ]
  },
  {
   "cell_type": "code",
   "execution_count": 104,
   "id": "606488aa-e1b8-49f3-a097-29e2f4f9b575",
   "metadata": {},
   "outputs": [
    {
     "data": {
      "text/plain": [
       "(5, 7)"
      ]
     },
     "execution_count": 104,
     "metadata": {},
     "output_type": "execute_result"
    }
   ],
   "source": [
    " arr1.shape"
   ]
  },
  {
   "cell_type": "code",
   "execution_count": 108,
   "id": "5ced602a-e58c-439c-a7a3-c3ed1976586c",
   "metadata": {},
   "outputs": [
    {
     "data": {
      "text/plain": [
       "2"
      ]
     },
     "execution_count": 108,
     "metadata": {},
     "output_type": "execute_result"
    }
   ],
   "source": [
    "arr1.ndim"
   ]
  },
  {
   "cell_type": "code",
   "execution_count": 110,
   "id": "8d1a4a50-efe8-4903-bae9-1643b5df5da8",
   "metadata": {},
   "outputs": [
    {
     "data": {
      "text/plain": [
       "range(5, 7)"
      ]
     },
     "execution_count": 110,
     "metadata": {},
     "output_type": "execute_result"
    }
   ],
   "source": [
    " range(5, 7)"
   ]
  },
  {
   "cell_type": "code",
   "execution_count": 112,
   "id": "1728772b-21ec-4c24-bca3-54bdef8c833e",
   "metadata": {},
   "outputs": [
    {
     "data": {
      "text/plain": [
       "[3, 4, 5, 6, 7, 10, 11, 14, 15]"
      ]
     },
     "execution_count": 112,
     "metadata": {},
     "output_type": "execute_result"
    }
   ],
   "source": [
    "m=[3,4,5,6,7,10,11,14,15]\n",
    "m"
   ]
  },
  {
   "cell_type": "code",
   "execution_count": 114,
   "id": "342c7a04-8182-4852-8f34-1351fcb9de98",
   "metadata": {},
   "outputs": [
    {
     "data": {
      "text/plain": [
       "[3, 4, 5, 6, 7, 8, 9, 10, 11, 12]"
      ]
     },
     "execution_count": 114,
     "metadata": {},
     "output_type": "execute_result"
    }
   ],
   "source": [
    "list(range(3,13))"
   ]
  },
  {
   "cell_type": "code",
   "execution_count": 116,
   "id": "e3e8c06c-73c7-458f-be3e-f9c1d1d4421c",
   "metadata": {},
   "outputs": [
    {
     "data": {
      "text/plain": [
       "[3, 5, 7, 9, 11]"
      ]
     },
     "execution_count": 116,
     "metadata": {},
     "output_type": "execute_result"
    }
   ],
   "source": [
    "list(range(3,13,2))"
   ]
  },
  {
   "cell_type": "code",
   "execution_count": 118,
   "id": "5a30bc40-0761-45a9-881e-acd59daed0cf",
   "metadata": {},
   "outputs": [
    {
     "data": {
      "text/plain": [
       "[3, 5, 7, 9, 11, 13, 15, 17]"
      ]
     },
     "execution_count": 118,
     "metadata": {},
     "output_type": "execute_result"
    }
   ],
   "source": [
    "list(range(3,19,2))"
   ]
  },
  {
   "cell_type": "code",
   "execution_count": 120,
   "id": "43f05bbb-2d44-481d-81a2-f6e81154fc7a",
   "metadata": {},
   "outputs": [
    {
     "data": {
      "text/plain": [
       "[0, 100, 200, 300, 400, 500, 600, 700, 800, 900, 1000, 1100, 1200]"
      ]
     },
     "execution_count": 120,
     "metadata": {},
     "output_type": "execute_result"
    }
   ],
   "source": [
    "list(range(0,1300,100))"
   ]
  },
  {
   "cell_type": "code",
   "execution_count": 122,
   "id": "37359705-f49c-4db1-a481-487eca7911f5",
   "metadata": {},
   "outputs": [],
   "source": [
    "m=range(-10,1,1)"
   ]
  },
  {
   "cell_type": "code",
   "execution_count": 124,
   "id": "d9995c30-44ca-49a8-b1cf-21fadd37c6ec",
   "metadata": {},
   "outputs": [
    {
     "data": {
      "text/plain": [
       "[-10, -9, -8, -7, -6, -5, -4, -3, -2, -1, 0]"
      ]
     },
     "execution_count": 124,
     "metadata": {},
     "output_type": "execute_result"
    }
   ],
   "source": [
    "list(m)"
   ]
  },
  {
   "cell_type": "code",
   "execution_count": 126,
   "id": "6d866189-5262-420f-9704-18a292bae03d",
   "metadata": {},
   "outputs": [
    {
     "data": {
      "text/plain": [
       "[-1, -3, -5, -7, -9]"
      ]
     },
     "execution_count": 126,
     "metadata": {},
     "output_type": "execute_result"
    }
   ],
   "source": [
    "list(range(-1,-10,-2))"
   ]
  },
  {
   "cell_type": "code",
   "execution_count": 128,
   "id": "f82ba661-85e8-4571-9fa6-09ec047b5a2a",
   "metadata": {},
   "outputs": [
    {
     "data": {
      "text/plain": [
       "[10, 8, 6, 4, 2, 0, -2, -4, -6, -8]"
      ]
     },
     "execution_count": 128,
     "metadata": {},
     "output_type": "execute_result"
    }
   ],
   "source": [
    "list(range(10,-10,-2))"
   ]
  },
  {
   "cell_type": "code",
   "execution_count": 132,
   "id": "ecf4d465-3724-476b-bbc1-4911e61f49b7",
   "metadata": {},
   "outputs": [
    {
     "data": {
      "text/plain": [
       "[8.5, 6, 2.3, 5.6, 1.0, 2.0, 8]"
      ]
     },
     "execution_count": 132,
     "metadata": {},
     "output_type": "execute_result"
    }
   ],
   "source": [
    "[8.5,6,2.3,5.6,1.0,2.0,8]"
   ]
  },
  {
   "cell_type": "code",
   "execution_count": 134,
   "id": "faf00c31-6ea4-4e4f-899e-b385821cf4bb",
   "metadata": {},
   "outputs": [
    {
     "data": {
      "text/plain": [
       "range(5, 50, 5)"
      ]
     },
     "execution_count": 134,
     "metadata": {},
     "output_type": "execute_result"
    }
   ],
   "source": [
    "range(5,50,5)"
   ]
  },
  {
   "cell_type": "code",
   "execution_count": 136,
   "id": "78725d8d-8c23-444d-83ca-79cfc358ef2e",
   "metadata": {},
   "outputs": [
    {
     "name": "stdout",
     "output_type": "stream",
     "text": [
      "Data 5\n",
      "Data 10\n",
      "Data 15\n",
      "Data 20\n",
      "Data 25\n",
      "Data 30\n",
      "Data 35\n",
      "Data 40\n",
      "Data 45\n"
     ]
    }
   ],
   "source": [
    "for i in range(5,50,5):\n",
    "    print(\"Data\",i)"
   ]
  },
  {
   "cell_type": "code",
   "execution_count": 141,
   "id": "1683c7ff-58f0-4ce7-abc3-704aac2d242e",
   "metadata": {},
   "outputs": [
    {
     "data": {
      "text/plain": [
       "[5, 87, 52, 3, 21, 41, 65, 54, 1, 8]"
      ]
     },
     "execution_count": 141,
     "metadata": {},
     "output_type": "execute_result"
    }
   ],
   "source": [
    "j=[5,87,52,3,21,41,65,54,1,8]\n",
    "\n",
    "j"
   ]
  },
  {
   "cell_type": "code",
   "execution_count": 147,
   "id": "8dc2a71b-d5bc-4ac1-b93d-66ed2181a73e",
   "metadata": {},
   "outputs": [
    {
     "name": "stdout",
     "output_type": "stream",
     "text": [
      "Even positions: [0, 2, 4]\n",
      "Odd positions: [1, 3]\n"
     ]
    }
   ],
   "source": [
    "\n",
    "even_pos = []\n",
    "odd_pos = []\n",
    "j = [1, 2, 3, 4, 5]  \n",
    "for i in range(len(j)):\n",
    "    if i%2 == 0:\n",
    "        even_pos.append(i)  \n",
    "    else:\n",
    "        odd_pos.append(i)\n",
    "print(\"Even positions:\", even_pos)\n",
    "print(\"Odd positions:\", odd_pos)\n"
   ]
  },
  {
   "cell_type": "code",
   "execution_count": null,
   "id": "3ab1c0df-f482-4e6f-ac09-9e4a90c8f0aa",
   "metadata": {},
   "outputs": [],
   "source": []
  }
 ],
 "metadata": {
  "kernelspec": {
   "display_name": "Python [conda env:anaconda3]",
   "language": "python",
   "name": "conda-env-anaconda3-py"
  },
  "language_info": {
   "codemirror_mode": {
    "name": "ipython",
    "version": 3
   },
   "file_extension": ".py",
   "mimetype": "text/x-python",
   "name": "python",
   "nbconvert_exporter": "python",
   "pygments_lexer": "ipython3",
   "version": "3.12.7"
  }
 },
 "nbformat": 4,
 "nbformat_minor": 5
}
