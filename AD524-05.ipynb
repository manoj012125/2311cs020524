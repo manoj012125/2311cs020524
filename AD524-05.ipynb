{
 "cells": [
  {
   "cell_type": "markdown",
   "id": "44eb9e7b-d353-4c88-9440-3664d2903f5d",
   "metadata": {},
   "source": [
    "Condition Statements"
   ]
  },
  {
   "cell_type": "markdown",
   "id": "fa8ff73c-162b-4eb2-964d-5ae58a6d8887",
   "metadata": {},
   "source": [
    "write a program to know number is positive negative or zero"
   ]
  },
  {
   "cell_type": "code",
   "execution_count": 11,
   "id": "1d596962-9f47-4ab8-b364-c297aa67c567",
   "metadata": {},
   "outputs": [
    {
     "name": "stdout",
     "output_type": "stream",
     "text": [
      "pos\n"
     ]
    }
   ],
   "source": [
    "x = 6\n",
    "if x>0:\n",
    "    print('pos')\n",
    "elif x<0:\n",
    "    print('neg')\n",
    "else:\n",
    "    print('zero')"
   ]
  },
  {
   "cell_type": "code",
   "execution_count": 12,
   "id": "8a2384b5-5aac-462b-8ed7-b19142f01aa9",
   "metadata": {},
   "outputs": [
    {
     "name": "stdout",
     "output_type": "stream",
     "text": [
      "neg\n"
     ]
    }
   ],
   "source": [
    "x = -5.6\n",
    "if x>0:\n",
    "    print('pos')\n",
    "elif x<0:\n",
    "    print('neg')\n",
    "else:\n",
    "    print('zero')"
   ]
  },
  {
   "cell_type": "code",
   "execution_count": 13,
   "id": "9215c944-96aa-454c-9416-914f2f7d40e7",
   "metadata": {},
   "outputs": [
    {
     "name": "stdout",
     "output_type": "stream",
     "text": [
      "O\n"
     ]
    }
   ],
   "source": [
    "y = 3\n",
    "if y>5:\n",
    "    print('M')\n",
    "elif y>4:\n",
    "    print('k')\n",
    "elif y>7:    \n",
    "    print('H')\n",
    "else:\n",
    "    print('O')"
   ]
  },
  {
   "cell_type": "code",
   "execution_count": 14,
   "id": "9dffb3dc-208a-49eb-8db2-070daae258fc",
   "metadata": {},
   "outputs": [
    {
     "data": {
      "text/plain": [
       "str"
      ]
     },
     "execution_count": 14,
     "metadata": {},
     "output_type": "execute_result"
    }
   ],
   "source": [
    "t = 'Hyderabad'\n",
    "type(t)"
   ]
  },
  {
   "cell_type": "code",
   "execution_count": 15,
   "id": "50eb23ca-8535-4e01-9697-00dd516513d3",
   "metadata": {},
   "outputs": [
    {
     "data": {
      "text/plain": [
       "'y'"
      ]
     },
     "execution_count": 15,
     "metadata": {},
     "output_type": "execute_result"
    }
   ],
   "source": [
    "t[1]"
   ]
  },
  {
   "cell_type": "code",
   "execution_count": 16,
   "id": "1b732e8f-d889-446a-9491-49b506deeb6f",
   "metadata": {},
   "outputs": [
    {
     "data": {
      "text/plain": [
       "'d'"
      ]
     },
     "execution_count": 16,
     "metadata": {},
     "output_type": "execute_result"
    }
   ],
   "source": [
    "t[-1]"
   ]
  },
  {
   "cell_type": "code",
   "execution_count": 17,
   "id": "6b01dc6f-9d1f-4b0e-96db-4bdf98f109a8",
   "metadata": {},
   "outputs": [
    {
     "data": {
      "text/plain": [
       "'yderaba'"
      ]
     },
     "execution_count": 17,
     "metadata": {},
     "output_type": "execute_result"
    }
   ],
   "source": [
    "t[1:-1]"
   ]
  },
  {
   "cell_type": "code",
   "execution_count": 18,
   "id": "6e2ca6cb-e14a-4e1b-93f1-80401687ceb4",
   "metadata": {},
   "outputs": [
    {
     "data": {
      "text/plain": [
       "'aba'"
      ]
     },
     "execution_count": 18,
     "metadata": {},
     "output_type": "execute_result"
    }
   ],
   "source": [
    "t[5:-1]"
   ]
  },
  {
   "cell_type": "code",
   "execution_count": 20,
   "id": "e2e13d7c-2ffc-4f3e-916a-0ac441f82476",
   "metadata": {},
   "outputs": [
    {
     "data": {
      "text/plain": [
       "'a'"
      ]
     },
     "execution_count": 20,
     "metadata": {},
     "output_type": "execute_result"
    }
   ],
   "source": [
    "t[7:-1]"
   ]
  },
  {
   "cell_type": "code",
   "execution_count": 25,
   "id": "d62ec13a-87c2-470a-8716-baa9efd1bee8",
   "metadata": {},
   "outputs": [
    {
     "name": "stdout",
     "output_type": "stream",
     "text": [
      "yes\n"
     ]
    }
   ],
   "source": [
    "x = 'telangana'\n",
    "x ='tiger'\n",
    "x = 'ten'\n",
    "if x[0]=='t' or x[0]=='T' :\n",
    "    print('yes')\n",
    "else:\n",
    "    print('No')\n",
    "    "
   ]
  },
  {
   "cell_type": "code",
   "execution_count": 26,
   "id": "29edd3a7-72e6-47e2-ab55-4b9335add20c",
   "metadata": {},
   "outputs": [
    {
     "name": "stdout",
     "output_type": "stream",
     "text": [
      "yes\n"
     ]
    }
   ],
   "source": [
    " x = 'juliet'\n",
    "if x[0]=='j' or x[0]=='J' :\n",
    "    print('yes')\n",
    "else:\n",
    "    print('No')"
   ]
  },
  {
   "cell_type": "code",
   "execution_count": 29,
   "id": "bd6a2ce7-df1a-443e-a5d6-3724d9ac4cff",
   "metadata": {},
   "outputs": [
    {
     "name": "stdout",
     "output_type": "stream",
     "text": [
      "yes\n"
     ]
    }
   ],
   "source": [
    "x = 'shimla'\n",
    "if x[0]=='s' or x[1]=='h' or x[3]=='m' :\n",
    "    print('yes')\n",
    "else:\n",
    "    print('no')"
   ]
  },
  {
   "cell_type": "code",
   "execution_count": 31,
   "id": "06d2382b-ca88-4d6d-823c-af4b79f58f62",
   "metadata": {},
   "outputs": [
    {
     "name": "stdout",
     "output_type": "stream",
     "text": [
      "yes\n"
     ]
    }
   ],
   "source": [
    "x = 'tiger'\n",
    "if x[0].lower() == 't':\n",
    "    print('yes')\n",
    "else:\n",
    "    print('no')"
   ]
  },
  {
   "cell_type": "code",
   "execution_count": 32,
   "id": "264fd202-0088-413e-86fc-758f0b4a87a4",
   "metadata": {},
   "outputs": [
    {
     "name": "stdout",
     "output_type": "stream",
     "text": [
      "yes\n"
     ]
    }
   ],
   "source": [
    "x = 'tiger'\n",
    "if x[0].lower() == 't' or 'g' or :\n",
    "    print('yes')\n",
    "else:\n",
    "    print('no')"
   ]
  },
  {
   "cell_type": "code",
   "execution_count": 33,
   "id": "2a0bbd06-fa64-438b-933d-89cd95deb807",
   "metadata": {},
   "outputs": [
    {
     "name": "stdout",
     "output_type": "stream",
     "text": [
      "yes\n"
     ]
    }
   ],
   "source": [
    "x = 'tiger'\n",
    "if x[0].lower() in ('t','g','r'):\n",
    "        print('yes')\n",
    "else:\n",
    "    print('no')\n",
    "    "
   ]
  },
  {
   "cell_type": "code",
   "execution_count": null,
   "id": "d9e5fb36-dd4c-4231-b9c2-4dd4d844fae5",
   "metadata": {},
   "outputs": [],
   "source": []
  }
 ],
 "metadata": {
  "kernelspec": {
   "display_name": "Python 3 (ipykernel)",
   "language": "python",
   "name": "python3"
  },
  "language_info": {
   "codemirror_mode": {
    "name": "ipython",
    "version": 3
   },
   "file_extension": ".py",
   "mimetype": "text/x-python",
   "name": "python",
   "nbconvert_exporter": "python",
   "pygments_lexer": "ipython3",
   "version": "3.12.7"
  }
 },
 "nbformat": 4,
 "nbformat_minor": 5
}
